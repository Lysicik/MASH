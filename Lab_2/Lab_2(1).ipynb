{
 "cells": [
  {
   "cell_type": "markdown",
   "metadata": {},
   "source": [
    "# ЛР №2"
   ]
  },
  {
   "cell_type": "markdown",
   "metadata": {},
   "source": [
    "### Импорт библиотек"
   ]
  },
  {
   "cell_type": "code",
   "execution_count": 1,
   "metadata": {},
   "outputs": [],
   "source": [
    "import numpy as np\n",
    "import pandas as pd\n",
    "import seaborn as sns\n",
    "import matplotlib.pyplot as plt\n",
    "from pandas.plotting import scatter_matrix\n",
    "import warnings\n",
    "warnings.filterwarnings('ignore')\n",
    "sns.set(style=\"ticks\")\n",
    "%matplotlib inline"
   ]
  },
  {
   "cell_type": "code",
   "execution_count": 2,
   "metadata": {},
   "outputs": [],
   "source": [
    "data = pd.read_csv('reddit_vm.csv')"
   ]
  },
  {
   "cell_type": "code",
   "execution_count": 3,
   "metadata": {},
   "outputs": [
    {
     "data": {
      "text/html": [
       "<div>\n",
       "<style scoped>\n",
       "    .dataframe tbody tr th:only-of-type {\n",
       "        vertical-align: middle;\n",
       "    }\n",
       "\n",
       "    .dataframe tbody tr th {\n",
       "        vertical-align: top;\n",
       "    }\n",
       "\n",
       "    .dataframe thead th {\n",
       "        text-align: right;\n",
       "    }\n",
       "</style>\n",
       "<table border=\"1\" class=\"dataframe\">\n",
       "  <thead>\n",
       "    <tr style=\"text-align: right;\">\n",
       "      <th></th>\n",
       "      <th>title</th>\n",
       "      <th>score</th>\n",
       "      <th>id</th>\n",
       "      <th>url</th>\n",
       "      <th>comms_num</th>\n",
       "      <th>created</th>\n",
       "      <th>body</th>\n",
       "      <th>timestamp</th>\n",
       "    </tr>\n",
       "  </thead>\n",
       "  <tbody>\n",
       "    <tr>\n",
       "      <th>0</th>\n",
       "      <td>Health Canada approves AstraZeneca COVID-19 va...</td>\n",
       "      <td>7</td>\n",
       "      <td>lt74vw</td>\n",
       "      <td>https://www.canadaforums.ca/2021/02/health-can...</td>\n",
       "      <td>0</td>\n",
       "      <td>1.614400e+09</td>\n",
       "      <td>NaN</td>\n",
       "      <td>2021-02-27 06:33:45</td>\n",
       "    </tr>\n",
       "    <tr>\n",
       "      <th>1</th>\n",
       "      <td>COVID-19 in Canada: 'Vaccination passports' a ...</td>\n",
       "      <td>2</td>\n",
       "      <td>lsh0ij</td>\n",
       "      <td>https://www.canadaforums.ca/2021/02/covid-19-i...</td>\n",
       "      <td>1</td>\n",
       "      <td>1.614316e+09</td>\n",
       "      <td>NaN</td>\n",
       "      <td>2021-02-26 07:11:07</td>\n",
       "    </tr>\n",
       "    <tr>\n",
       "      <th>2</th>\n",
       "      <td>Coronavirus variants could fuel Canada's third...</td>\n",
       "      <td>6</td>\n",
       "      <td>lohlle</td>\n",
       "      <td>https://www.canadaforums.ca/2021/02/coronaviru...</td>\n",
       "      <td>0</td>\n",
       "      <td>1.613887e+09</td>\n",
       "      <td>NaN</td>\n",
       "      <td>2021-02-21 07:50:08</td>\n",
       "    </tr>\n",
       "    <tr>\n",
       "      <th>3</th>\n",
       "      <td>Canadian government to extend COVID-19 emergen...</td>\n",
       "      <td>1</td>\n",
       "      <td>lnptv8</td>\n",
       "      <td>https://www.canadaforums.ca/2021/02/canadian-g...</td>\n",
       "      <td>0</td>\n",
       "      <td>1.613796e+09</td>\n",
       "      <td>NaN</td>\n",
       "      <td>2021-02-20 06:35:13</td>\n",
       "    </tr>\n",
       "    <tr>\n",
       "      <th>4</th>\n",
       "      <td>Canada: Pfizer is 'extremely committed' to mee...</td>\n",
       "      <td>6</td>\n",
       "      <td>lkslm6</td>\n",
       "      <td>https://www.canadaforums.ca/2021/02/canada-pfi...</td>\n",
       "      <td>0</td>\n",
       "      <td>1.613468e+09</td>\n",
       "      <td>NaN</td>\n",
       "      <td>2021-02-16 11:36:28</td>\n",
       "    </tr>\n",
       "  </tbody>\n",
       "</table>\n",
       "</div>"
      ],
      "text/plain": [
       "                                               title  score      id  \\\n",
       "0  Health Canada approves AstraZeneca COVID-19 va...      7  lt74vw   \n",
       "1  COVID-19 in Canada: 'Vaccination passports' a ...      2  lsh0ij   \n",
       "2  Coronavirus variants could fuel Canada's third...      6  lohlle   \n",
       "3  Canadian government to extend COVID-19 emergen...      1  lnptv8   \n",
       "4  Canada: Pfizer is 'extremely committed' to mee...      6  lkslm6   \n",
       "\n",
       "                                                 url  comms_num       created  \\\n",
       "0  https://www.canadaforums.ca/2021/02/health-can...          0  1.614400e+09   \n",
       "1  https://www.canadaforums.ca/2021/02/covid-19-i...          1  1.614316e+09   \n",
       "2  https://www.canadaforums.ca/2021/02/coronaviru...          0  1.613887e+09   \n",
       "3  https://www.canadaforums.ca/2021/02/canadian-g...          0  1.613796e+09   \n",
       "4  https://www.canadaforums.ca/2021/02/canada-pfi...          0  1.613468e+09   \n",
       "\n",
       "  body            timestamp  \n",
       "0  NaN  2021-02-27 06:33:45  \n",
       "1  NaN  2021-02-26 07:11:07  \n",
       "2  NaN  2021-02-21 07:50:08  \n",
       "3  NaN  2021-02-20 06:35:13  \n",
       "4  NaN  2021-02-16 11:36:28  "
      ]
     },
     "execution_count": 3,
     "metadata": {},
     "output_type": "execute_result"
    }
   ],
   "source": [
    "data.head()"
   ]
  },
  {
   "cell_type": "code",
   "execution_count": 4,
   "metadata": {},
   "outputs": [
    {
     "data": {
      "text/plain": [
       "title         object\n",
       "score          int64\n",
       "id            object\n",
       "url           object\n",
       "comms_num      int64\n",
       "created      float64\n",
       "body          object\n",
       "timestamp     object\n",
       "dtype: object"
      ]
     },
     "execution_count": 4,
     "metadata": {},
     "output_type": "execute_result"
    }
   ],
   "source": [
    "data.dtypes"
   ]
  },
  {
   "cell_type": "code",
   "execution_count": 5,
   "metadata": {},
   "outputs": [
    {
     "data": {
      "text/plain": [
       "title          0\n",
       "score          0\n",
       "id             0\n",
       "url          984\n",
       "comms_num      0\n",
       "created        0\n",
       "body         365\n",
       "timestamp      0\n",
       "dtype: int64"
      ]
     },
     "execution_count": 5,
     "metadata": {},
     "output_type": "execute_result"
    }
   ],
   "source": [
    "data.isnull().sum()\n",
    "# проверим есть ли пропущенные значения"
   ]
  },
  {
   "cell_type": "code",
   "execution_count": 6,
   "metadata": {},
   "outputs": [
    {
     "name": "stdout",
     "output_type": "stream",
     "text": [
      "<class 'pandas.core.frame.DataFrame'>\n",
      "RangeIndex: 1429 entries, 0 to 1428\n",
      "Data columns (total 8 columns):\n",
      " #   Column     Non-Null Count  Dtype  \n",
      "---  ------     --------------  -----  \n",
      " 0   title      1429 non-null   object \n",
      " 1   score      1429 non-null   int64  \n",
      " 2   id         1429 non-null   object \n",
      " 3   url        445 non-null    object \n",
      " 4   comms_num  1429 non-null   int64  \n",
      " 5   created    1429 non-null   float64\n",
      " 6   body       1064 non-null   object \n",
      " 7   timestamp  1429 non-null   object \n",
      "dtypes: float64(1), int64(2), object(5)\n",
      "memory usage: 89.4+ KB\n"
     ]
    }
   ],
   "source": [
    "data.info()"
   ]
  },
  {
   "cell_type": "markdown",
   "metadata": {},
   "source": [
    "### Обработка пропусков"
   ]
  },
  {
   "cell_type": "code",
   "execution_count": 7,
   "metadata": {},
   "outputs": [],
   "source": [
    "# Удаляем столбцы, которые не несут значимой информации\n",
    "data.drop(['id','score'], axis = 1, inplace = True)"
   ]
  },
  {
   "cell_type": "code",
   "execution_count": 8,
   "metadata": {},
   "outputs": [
    {
     "name": "stdout",
     "output_type": "stream",
     "text": [
      "<class 'pandas.core.frame.DataFrame'>\n",
      "RangeIndex: 1429 entries, 0 to 1428\n",
      "Data columns (total 6 columns):\n",
      " #   Column     Non-Null Count  Dtype  \n",
      "---  ------     --------------  -----  \n",
      " 0   title      1429 non-null   object \n",
      " 1   url        445 non-null    object \n",
      " 2   comms_num  1429 non-null   int64  \n",
      " 3   created    1429 non-null   float64\n",
      " 4   body       1064 non-null   object \n",
      " 5   timestamp  1429 non-null   object \n",
      "dtypes: float64(1), int64(1), object(4)\n",
      "memory usage: 67.1+ KB\n"
     ]
    }
   ],
   "source": [
    "data.info()"
   ]
  },
  {
   "cell_type": "code",
   "execution_count": 9,
   "metadata": {},
   "outputs": [
    {
     "data": {
      "text/html": [
       "<div>\n",
       "<style scoped>\n",
       "    .dataframe tbody tr th:only-of-type {\n",
       "        vertical-align: middle;\n",
       "    }\n",
       "\n",
       "    .dataframe tbody tr th {\n",
       "        vertical-align: top;\n",
       "    }\n",
       "\n",
       "    .dataframe thead th {\n",
       "        text-align: right;\n",
       "    }\n",
       "</style>\n",
       "<table border=\"1\" class=\"dataframe\">\n",
       "  <thead>\n",
       "    <tr style=\"text-align: right;\">\n",
       "      <th></th>\n",
       "      <th>title</th>\n",
       "      <th>url</th>\n",
       "      <th>comms_num</th>\n",
       "      <th>created</th>\n",
       "      <th>body</th>\n",
       "      <th>timestamp</th>\n",
       "    </tr>\n",
       "  </thead>\n",
       "  <tbody>\n",
       "    <tr>\n",
       "      <th>0</th>\n",
       "      <td>Health Canada approves AstraZeneca COVID-19 va...</td>\n",
       "      <td>https://www.canadaforums.ca/2021/02/health-can...</td>\n",
       "      <td>0</td>\n",
       "      <td>1.614400e+09</td>\n",
       "      <td>Num</td>\n",
       "      <td>2021-02-27 06:33:45</td>\n",
       "    </tr>\n",
       "    <tr>\n",
       "      <th>1</th>\n",
       "      <td>COVID-19 in Canada: 'Vaccination passports' a ...</td>\n",
       "      <td>https://www.canadaforums.ca/2021/02/covid-19-i...</td>\n",
       "      <td>1</td>\n",
       "      <td>1.614316e+09</td>\n",
       "      <td>Num</td>\n",
       "      <td>2021-02-26 07:11:07</td>\n",
       "    </tr>\n",
       "    <tr>\n",
       "      <th>2</th>\n",
       "      <td>Coronavirus variants could fuel Canada's third...</td>\n",
       "      <td>https://www.canadaforums.ca/2021/02/coronaviru...</td>\n",
       "      <td>0</td>\n",
       "      <td>1.613887e+09</td>\n",
       "      <td>Num</td>\n",
       "      <td>2021-02-21 07:50:08</td>\n",
       "    </tr>\n",
       "    <tr>\n",
       "      <th>3</th>\n",
       "      <td>Canadian government to extend COVID-19 emergen...</td>\n",
       "      <td>https://www.canadaforums.ca/2021/02/canadian-g...</td>\n",
       "      <td>0</td>\n",
       "      <td>1.613796e+09</td>\n",
       "      <td>Num</td>\n",
       "      <td>2021-02-20 06:35:13</td>\n",
       "    </tr>\n",
       "    <tr>\n",
       "      <th>4</th>\n",
       "      <td>Canada: Pfizer is 'extremely committed' to mee...</td>\n",
       "      <td>https://www.canadaforums.ca/2021/02/canada-pfi...</td>\n",
       "      <td>0</td>\n",
       "      <td>1.613468e+09</td>\n",
       "      <td>Num</td>\n",
       "      <td>2021-02-16 11:36:28</td>\n",
       "    </tr>\n",
       "  </tbody>\n",
       "</table>\n",
       "</div>"
      ],
      "text/plain": [
       "                                               title  \\\n",
       "0  Health Canada approves AstraZeneca COVID-19 va...   \n",
       "1  COVID-19 in Canada: 'Vaccination passports' a ...   \n",
       "2  Coronavirus variants could fuel Canada's third...   \n",
       "3  Canadian government to extend COVID-19 emergen...   \n",
       "4  Canada: Pfizer is 'extremely committed' to mee...   \n",
       "\n",
       "                                                 url  comms_num       created  \\\n",
       "0  https://www.canadaforums.ca/2021/02/health-can...          0  1.614400e+09   \n",
       "1  https://www.canadaforums.ca/2021/02/covid-19-i...          1  1.614316e+09   \n",
       "2  https://www.canadaforums.ca/2021/02/coronaviru...          0  1.613887e+09   \n",
       "3  https://www.canadaforums.ca/2021/02/canadian-g...          0  1.613796e+09   \n",
       "4  https://www.canadaforums.ca/2021/02/canada-pfi...          0  1.613468e+09   \n",
       "\n",
       "  body            timestamp  \n",
       "0  Num  2021-02-27 06:33:45  \n",
       "1  Num  2021-02-26 07:11:07  \n",
       "2  Num  2021-02-21 07:50:08  \n",
       "3  Num  2021-02-20 06:35:13  \n",
       "4  Num  2021-02-16 11:36:28  "
      ]
     },
     "execution_count": 9,
     "metadata": {},
     "output_type": "execute_result"
    }
   ],
   "source": [
    "# Заполняем отсутствующие значения \n",
    "data = data.fillna(\"Num\")\n",
    "data.head()"
   ]
  },
  {
   "cell_type": "code",
   "execution_count": 10,
   "metadata": {},
   "outputs": [
    {
     "data": {
      "text/plain": [
       "title        0\n",
       "url          0\n",
       "comms_num    0\n",
       "created      0\n",
       "body         0\n",
       "timestamp    0\n",
       "dtype: int64"
      ]
     },
     "execution_count": 10,
     "metadata": {},
     "output_type": "execute_result"
    }
   ],
   "source": [
    "data.isnull().sum()\n",
    "# проверим есть ли пропущенные значения"
   ]
  }
 ],
 "metadata": {
  "kernelspec": {
   "display_name": "Python 3",
   "language": "python",
   "name": "python3"
  },
  "language_info": {
   "codemirror_mode": {
    "name": "ipython",
    "version": 3
   },
   "file_extension": ".py",
   "mimetype": "text/x-python",
   "name": "python",
   "nbconvert_exporter": "python",
   "pygments_lexer": "ipython3",
   "version": "3.8.5"
  }
 },
 "nbformat": 4,
 "nbformat_minor": 4
}
